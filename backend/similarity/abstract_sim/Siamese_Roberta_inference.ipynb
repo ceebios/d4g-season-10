{
 "cells": [
  {
   "cell_type": "code",
   "execution_count": null,
   "id": "f5f3620e",
   "metadata": {},
   "outputs": [],
   "source": [
    "import tensorflow as tf\n",
    "from transformers import RobertaTokenizerFast, TFRobertaModel\n",
    "import numpy as np"
   ]
  },
  {
   "cell_type": "code",
   "execution_count": null,
   "id": "3d1702e2",
   "metadata": {},
   "outputs": [],
   "source": [
    "class BertEmbedding(tf.keras.Model): \n",
    "    def __init__(self, max_len = 128, encoder_weights = None, output_attention = False):\n",
    "        super(BertEmbedding, self).__init__()\n",
    "        self.max_len = max_len\n",
    "        self.encoder = TFRobertaModel.from_pretrained('roberta-base', output_attentions=True)\n",
    "        self.output_attention = output_attention\n",
    "        \n",
    "        self.dense1 = tf.keras.layers.Dense(512, activation = 'relu')\n",
    "        self.dense2 = tf.keras.layers.Dense(512, activation = 'linear')\n",
    "        \n",
    "        dummy_input = {\n",
    "            'input_ids' : np.random.randint(0,100,size = (8, self.max_len)).astype('int32'),\n",
    "            'attention_mask' : np.random.randint(0,2,size = (8, self.max_len)).astype('int32'),\n",
    "        }\n",
    "        \n",
    "        dummy = self(dummy_input)\n",
    "        \n",
    "    \n",
    "    def call(self, x, training = True):            \n",
    "        encoded = self.encoder(input_ids = x['input_ids'], \n",
    "                               training =  training, \n",
    "                               attention_mask = x['attention_mask'],\n",
    "                               output_attentions = True\n",
    "                              )\n",
    "\n",
    "        cls_token = encoded[0][:,0,:]\n",
    "        embedding = self.dense1(cls_token)\n",
    "        embedding = self.dense2(embedding)\n",
    "        \n",
    "        if self.output_attention:\n",
    "            return embedding, encoded.attentions\n",
    "        else:\n",
    "            return embedding"
   ]
  },
  {
   "cell_type": "code",
   "execution_count": null,
   "id": "c6cf5a27",
   "metadata": {},
   "outputs": [],
   "source": [
    "max_len = 128\n",
    "path_to_model='models'\n",
    "model_path = os.path.join(path_to_model, f'siamese_encoder_{max_len}.tf)\n",
    "model = BertEmbedding(max_len = max_len, output_attention = False)\n",
    "model.load_weights(model_path)"
   ]
  },
  {
   "cell_type": "code",
   "execution_count": null,
   "id": "2b774b7d",
   "metadata": {},
   "outputs": [],
   "source": [
    "model.summary()"
   ]
  },
  {
   "cell_type": "code",
   "execution_count": null,
   "id": "ecd4a025",
   "metadata": {},
   "outputs": [],
   "source": [
    "tokenizer = RobertaTokenizerFast.from_pretrained('roberta-base')\n",
    "\n",
    "s0 = \"abstract 1\"\n",
    "s1 = \"abstract 2\"\n",
    "s2 = \"abstract 3\"\n",
    "s3 = \"abstract 4\"\n",
    "s4 = \"abstract 5\"\n",
    "\n",
    "s = [s0, s1, s2, s3, s4]\n",
    "inputs = tokenizer.batch_encode_plus(s, add_special_tokens=True, padding = 'max_length', max_length=max_len, truncation = True, return_tensors = 'np')\n",
    "inputs = {elt : inputs[elt].astype('int32') for elt in inputs}"
   ]
  },
  {
   "cell_type": "code",
   "execution_count": null,
   "id": "d9eddeb5",
   "metadata": {},
   "outputs": [],
   "source": [
    "out = model.predict(inputs)"
   ]
  },
  {
   "cell_type": "code",
   "execution_count": null,
   "id": "1c86737e",
   "metadata": {},
   "outputs": [],
   "source": [
    "def normalize(x):\n",
    "    return (x.T/np.sqrt(np.sum(np.square(x), axis = 1))).T\n",
    "\n",
    "def cosine(x, y):\n",
    "    xn = normalize(x)\n",
    "    yn = normalize(y)\n",
    "    return (xn @ yn.T + 1)/2"
   ]
  },
  {
   "cell_type": "code",
   "execution_count": null,
   "id": "23845704",
   "metadata": {},
   "outputs": [],
   "source": [
    "import matplotlib.pyplot as plt\n",
    "import seaborn as sns\n",
    "l = ['s0', 's1', 's2', 's3', 's4']\n",
    "sns.heatmap(cosine(out, out), xticklabels = l, yticklabels = l)"
   ]
  },
  {
   "cell_type": "code",
   "execution_count": null,
   "id": "8af527c1",
   "metadata": {},
   "outputs": [],
   "source": []
  }
 ],
 "metadata": {
  "kernelspec": {
   "display_name": "Python 3 (ipykernel)",
   "language": "python",
   "name": "python3"
  },
  "language_info": {
   "codemirror_mode": {
    "name": "ipython",
    "version": 3
   },
   "file_extension": ".py",
   "mimetype": "text/x-python",
   "name": "python",
   "nbconvert_exporter": "python",
   "pygments_lexer": "ipython3",
   "version": "3.9.7"
  }
 },
 "nbformat": 4,
 "nbformat_minor": 5
}
